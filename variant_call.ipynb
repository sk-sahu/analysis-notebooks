{
  "nbformat": 4,
  "nbformat_minor": 0,
  "metadata": {
    "colab": {
      "name": "variant_call.ipynb",
      "provenance": [],
      "collapsed_sections": [],
      "toc_visible": true,
      "include_colab_link": true
    },
    "kernelspec": {
      "name": "python3",
      "display_name": "Python 3"
    }
  },
  "cells": [
    {
      "cell_type": "markdown",
      "metadata": {
        "id": "view-in-github",
        "colab_type": "text"
      },
      "source": [
        "<a href=\"https://colab.research.google.com/github/sk-sahu/notebooks/blob/master/variant_call.ipynb\" target=\"_parent\"><img src=\"https://colab.research.google.com/assets/colab-badge.svg\" alt=\"Open In Colab\"/></a>"
      ]
    },
    {
      "cell_type": "markdown",
      "metadata": {
        "id": "t8lcwvIGkRwT",
        "colab_type": "text"
      },
      "source": [
        "# Variant Calling\n",
        "Starting from raw reads (.fastq) to calling variants (.vcf) and their downstream analysis.\n",
        "\n"
      ]
    },
    {
      "cell_type": "code",
      "metadata": {
        "id": "e_49mU7R8Zo4",
        "colab_type": "code",
        "colab": {
          "base_uri": "https://localhost:8080/",
          "height": 50
        },
        "outputId": "e92565a0-49bb-4e58-e804-ff1960a41598"
      },
      "source": [
        "!date\n",
        "!$HOME"
      ],
      "execution_count": 7,
      "outputs": [
        {
          "output_type": "stream",
          "text": [
            "Mon Sep 23 16:28:52 UTC 2019\n",
            "/bin/bash: /root: Is a directory\n"
          ],
          "name": "stdout"
        }
      ]
    },
    {
      "cell_type": "markdown",
      "metadata": {
        "id": "AfiRrWhp8Yf8",
        "colab_type": "text"
      },
      "source": [
        "## Tools Required:\n",
        "* BWA \n",
        "* Picard \n",
        "* GATK-4 \n",
        "* SnpEFF \n",
        "* Samtools "
      ]
    },
    {
      "cell_type": "markdown",
      "metadata": {
        "id": "Gb0PFU326Bbc",
        "colab_type": "text"
      },
      "source": [
        "## Tool installation\n",
        "Install the required tools in a conda environment using “variant_call.yml” file.\n",
        "\n",
        "But before that, you need to have conda installed in the system. \n",
        "If it's already not installed. To install conda, from the command line:"
      ]
    },
    {
      "cell_type": "code",
      "metadata": {
        "id": "8fh-8KD555Xv",
        "colab_type": "code",
        "colab": {}
      },
      "source": [
        "!wget https://repo.anaconda.com/miniconda/Miniconda3-latest-Linux-x86.sh -O miniconda.sh\n",
        "!bash miniconda.sh -b -p $HOME/miniconda3"
      ],
      "execution_count": 0,
      "outputs": []
    },
    {
      "cell_type": "markdown",
      "metadata": {
        "id": "Mo2mRa5qlxUu",
        "colab_type": "text"
      },
      "source": [
        "Once the conda is installed. Now let's install the tools. This will take time because all the tools will be installed at once.\n"
      ]
    },
    {
      "cell_type": "code",
      "metadata": {
        "id": "B9liD3iR6I8Z",
        "colab_type": "code",
        "colab": {
          "base_uri": "https://localhost:8080/",
          "height": 33
        },
        "outputId": "3626aa89-8064-4e66-e630-29e8a2e9bfc3"
      },
      "source": [
        "!conda env create -f environment.yml"
      ],
      "execution_count": 10,
      "outputs": [
        {
          "output_type": "stream",
          "text": [
            "/bin/bash: conda: command not found\n"
          ],
          "name": "stdout"
        }
      ]
    },
    {
      "cell_type": "markdown",
      "metadata": {
        "id": "Veu8s7EN6SO6",
        "colab_type": "text"
      },
      "source": [
        "Now, If you type `conda env list` you should be able to see an environment called - variant_call. Change to that environment by entering"
      ]
    },
    {
      "cell_type": "code",
      "metadata": {
        "id": "qm6iO9Nx6VB0",
        "colab_type": "code",
        "colab": {}
      },
      "source": [
        "!conda activate variant_call\n"
      ],
      "execution_count": 0,
      "outputs": []
    },
    {
      "cell_type": "markdown",
      "metadata": {
        "colab_type": "text",
        "id": "GQsBTkLdubr7"
      },
      "source": [
        "## Start Analysis"
      ]
    },
    {
      "cell_type": "markdown",
      "metadata": {
        "id": "rvz1bmFZ8MmL",
        "colab_type": "text"
      },
      "source": [
        "\n",
        "### Step1: Alignment – Map to Reference"
      ]
    },
    {
      "cell_type": "code",
      "metadata": {
        "id": "wSNQmYo06bJg",
        "colab_type": "code",
        "colab": {}
      },
      "source": [
        "!bwa mem -M -t 16 ref.fa read1.fq read2.fq > aln.sam"
      ],
      "execution_count": 0,
      "outputs": []
    },
    {
      "cell_type": "markdown",
      "metadata": {
        "id": "c6B68x4cnV92",
        "colab_type": "text"
      },
      "source": [
        "### Step2: Generate sorted BAM file\n"
      ]
    },
    {
      "cell_type": "code",
      "metadata": {
        "id": "kBZuXEpS7W3C",
        "colab_type": "code",
        "colab": {}
      },
      "source": [
        "!picard SortSam INPUT=aligned_reads.sam OUTPUT=sorted_reads.bam SORT_ORDER=coordinate"
      ],
      "execution_count": 0,
      "outputs": []
    },
    {
      "cell_type": "markdown",
      "metadata": {
        "id": "slLJaoA6o27V",
        "colab_type": "text"
      },
      "source": [
        "### Step3: Check Alignment Summary\n",
        "\n"
      ]
    },
    {
      "cell_type": "code",
      "metadata": {
        "id": "yt_uFCvm7b45",
        "colab_type": "code",
        "colab": {}
      },
      "source": [
        "!picard.jar CollectAlignmentSummaryMetrics R=ref I=sorted_reads.bam O=alignment_metrics.txt\n",
        "\n",
        "!picard CollectInsertSizeMetrics INPUT=sorted_reads.bam OUTPUT=insert_metrics.txt HISTOGRAM_FILE=insert_size_histogram.pdf\n",
        "\n",
        "!samtools depth -a sorted_reads.bam > depth_out.txt"
      ],
      "execution_count": 0,
      "outputs": []
    },
    {
      "cell_type": "markdown",
      "metadata": {
        "id": "OGaUE_plpzo6",
        "colab_type": "text"
      },
      "source": [
        "### Step4: Mark Duplicates \n"
      ]
    },
    {
      "cell_type": "code",
      "metadata": {
        "id": "mPilh6CL7k6z",
        "colab_type": "code",
        "colab": {}
      },
      "source": [
        "!picard MarkDuplicates INPUT=sorted_reads.bam OUTPUT=dedup_reads.bam METRICS_FILE=metrics.txt"
      ],
      "execution_count": 0,
      "outputs": []
    },
    {
      "cell_type": "markdown",
      "metadata": {
        "id": "mFo1RCPVp-f9",
        "colab_type": "text"
      },
      "source": [
        "### Step5: Build BAM Index"
      ]
    },
    {
      "cell_type": "code",
      "metadata": {
        "id": "3raYR28a7ovm",
        "colab_type": "code",
        "colab": {}
      },
      "source": [
        "!picard.jar BuildBamIndex INPUT=dedup_reads.bam\n"
      ],
      "execution_count": 0,
      "outputs": []
    },
    {
      "cell_type": "markdown",
      "metadata": {
        "id": "adfCozWGrHnD",
        "colab_type": "text"
      },
      "source": [
        "### Step6: Create Realignment Targets\n"
      ]
    },
    {
      "cell_type": "code",
      "metadata": {
        "id": "GORAKU-Q72qz",
        "colab_type": "code",
        "colab": {}
      },
      "source": [
        "!gatk -T RealignerTargetCreator -R ref -I dedup_reads.bam -o realignment_targets.list"
      ],
      "execution_count": 0,
      "outputs": []
    },
    {
      "cell_type": "markdown",
      "metadata": {
        "id": "cFKegEQUrsA2",
        "colab_type": "text"
      },
      "source": [
        "### Step7: Realign Indels"
      ]
    },
    {
      "cell_type": "code",
      "metadata": {
        "id": "OfStrMum77bo",
        "colab_type": "code",
        "colab": {}
      },
      "source": [
        "!gatk -T IndelRealigner -R ref -I dedup_reads.bam -targetIntervals realignment_targets.list -o realigned_reads.bam"
      ],
      "execution_count": 0,
      "outputs": []
    },
    {
      "cell_type": "markdown",
      "metadata": {
        "id": "y6LGq6JOsR8i",
        "colab_type": "text"
      },
      "source": [
        "### Step8: Call Variants"
      ]
    },
    {
      "cell_type": "code",
      "metadata": {
        "id": "yJC7186u7-tu",
        "colab_type": "code",
        "colab": {}
      },
      "source": [
        "!gatk -T HaplotypeCaller -R ref -I realigned_reads.bam -o raw_variants.vcf"
      ],
      "execution_count": 0,
      "outputs": []
    },
    {
      "cell_type": "markdown",
      "metadata": {
        "id": "BLIn1pxtsufh",
        "colab_type": "text"
      },
      "source": [
        "### Step9: Extract SNPs & Indels\n"
      ]
    },
    {
      "cell_type": "markdown",
      "metadata": {
        "id": "gITjbHa48IAK",
        "colab_type": "text"
      },
      "source": [
        "#### For SNP"
      ]
    },
    {
      "cell_type": "code",
      "metadata": {
        "id": "FyYQ8DCH5lAb",
        "colab_type": "code",
        "colab": {}
      },
      "source": [
        "!gatk -T SelectVariants -R ref -V raw_variants.vcf -selectType SNP -o raw_snps.vcf"
      ],
      "execution_count": 0,
      "outputs": []
    },
    {
      "cell_type": "markdown",
      "metadata": {
        "id": "CA4AZEnA5pvd",
        "colab_type": "text"
      },
      "source": [
        "#### For Indel"
      ]
    },
    {
      "cell_type": "code",
      "metadata": {
        "id": "B6jU1tiT5YDg",
        "colab_type": "code",
        "colab": {}
      },
      "source": [
        "!gatk -T SelectVariants -R ref -V raw_variants.vcf -selectType INDEL -o raw_indels.vcf"
      ],
      "execution_count": 0,
      "outputs": []
    }
  ]
}